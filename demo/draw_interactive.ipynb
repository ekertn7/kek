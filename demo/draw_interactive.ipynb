{
 "cells": [
  {
   "cell_type": "code",
   "execution_count": 1,
   "id": "de907e96",
   "metadata": {},
   "outputs": [],
   "source": [
    "import sys\n",
    "import connectionz\n",
    "sys.path.insert(1, r'/Users/ekertn7/Desktop/Projects/ConnectionZ')"
   ]
  },
  {
   "cell_type": "code",
   "execution_count": 13,
   "id": "1ddb3842",
   "metadata": {},
   "outputs": [
    {
     "data": {
      "text/html": [
       "<!DOCTYPE html>\n",
       "<html>\n",
       "<head>\n",
       "    <title>ConnectionZ</title>\n",
       "    <meta name=\"viewport\" content=\"width=device-width\" charset=\"utf-8\" />\n",
       "</head>\n",
       "<body>\n",
       "    <div class=\"canvasParent\" style=\"display: block; width: 100%; height: 350px; padding: 0; margin: 0;\">\n",
       "        <canvas height=\"350\" id=\"visualisation\"></canvas>\n",
       "    </div>\n",
       "    <!-- <script type=\"text/javascript\">var graph = {'info': {'directed': True, 'layout': 'Circle', 'groups': [{'group_name': 'Group_1', 'group_color': '#0000FF'}, {'group_name': 'Group_2', 'group_color': '#FF0000'}]}, 'nodes': [{'node_name': 'n_1', 'node_attributes': {}, 'shape': 'Circle', 'color_hex': '#555555', 'border_hex': '#0000FF', 'group_name': 'Group_1', 'position:': {'x': 80, 'y': 140}, 'size': 50}, {'node_name': 'n_2', 'node_attributes': {}, 'shape': 'Circle', 'color_hex': '#777777', 'border_hex': '#FF0000', 'group_name': 'Group_2', 'position:': {'x': 200, 'y': 360}, 'size': 50}], 'edges': [{'edge_name': 'e_1_2', 'node_left': 'n_1', 'node_right': 'n_2', 'edge_attributes': {}, 'arrow_style': 'triangle', 'line_style': 'default', 'color_hex': '#000000'}]}</script> -->\n",
       "    <script type=\"text/javascript\">canvas = document.querySelector(\"#visualisation\");\n",
       "ctx = canvas.getContext(\"2d\");\n",
       "ctx.canvas.width = document.querySelector(\".canvasParent\").getBoundingClientRect().width;\n",
       "ctx.canvas.height = document.querySelector(\".canvasParent\").getBoundingClientRect().height;\n",
       "\n",
       "function Node(node_name, node_attributes, shape, color_hex, border_hex, size, group_name, x, y) {\n",
       "    this.name = node_name;\n",
       "    this.attributes = node_attributes;\n",
       "    this.shape = shape;\n",
       "    this.color = color_hex;\n",
       "    this.border = border_hex;\n",
       "    this.size = size;\n",
       "    this.group = group_name;\n",
       "    this.x = x;\n",
       "    this.y = y;\n",
       "\n",
       "    this.draw = function() {\n",
       "        ctx.beginPath();\n",
       "        ctx.arc(this.x, this.y, this.size/2, 0, 2 * Math.PI, false);\n",
       "        ctx.fillStyle = this.color;\n",
       "        ctx.fill();\n",
       "        ctx.lineWidth = 3;\n",
       "        ctx.strokeStyle = this.border;\n",
       "        ctx.stroke();\n",
       "    };\n",
       "};\n",
       "\n",
       "function Edge(edge_name, node_left, node_right, edge_attributes, arrow_style, line_style, color_hex) {\n",
       "    this.name = edge_name;\n",
       "    this.attributes = edge_attributes;\n",
       "    this.arrow_style = arrow_style;\n",
       "    this.line_style = line_style;\n",
       "    this.color = color_hex;\n",
       "\n",
       "    this.node_left = node_left;\n",
       "    this.node_right = node_right;\n",
       "\n",
       "    this.draw = function() {\n",
       "        ctx.beginPath();\n",
       "        ctx.lineWidth = 3;\n",
       "        ctx.strokeStyle = this.color;\n",
       "        ctx.moveTo(this.node_left.x, this.node_left.y);\n",
       "        ctx.lineTo(this.node_right.x, this.node_right.y);\n",
       "        ctx.stroke();\n",
       "    };\n",
       "};\n",
       "\n",
       "var e1 = new Edge('e1', n1, n2, {'weight': 150}, 'Default', 'Default', '#555555');\n",
       "e1.draw();\n",
       "var n1 = new Node('n1', {'label': 'node1'}, 'Circle', '#0F4935', '#0000FF', 40, 'Group_1', 160, 70);\n",
       "var n2 = new Node('n2', {'label': 'node2'}, 'Circle', '#0F4935', '#FF0000', 40, 'Group_2', 250, 150);\n",
       "n1.draw();\n",
       "n2.draw();\n",
       "\n",
       "</script>\n",
       "</body>\n",
       "</html>\n"
      ],
      "text/plain": [
       "<IPython.core.display.HTML object>"
      ]
     },
     "metadata": {},
     "output_type": "display_data"
    }
   ],
   "source": [
    "connectionz.draw_interactive(connectionz.DirectedGraph(), window_height=350)"
   ]
  },
  {
   "cell_type": "code",
   "execution_count": null,
   "id": "5543eeab",
   "metadata": {},
   "outputs": [],
   "source": []
  }
 ],
 "metadata": {
  "kernelspec": {
   "display_name": "Python 3 (ipykernel)",
   "language": "python",
   "name": "python3"
  },
  "language_info": {
   "codemirror_mode": {
    "name": "ipython",
    "version": 3
   },
   "file_extension": ".py",
   "mimetype": "text/x-python",
   "name": "python",
   "nbconvert_exporter": "python",
   "pygments_lexer": "ipython3",
   "version": "3.11.3"
  }
 },
 "nbformat": 4,
 "nbformat_minor": 5
}
